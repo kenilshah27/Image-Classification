{
  "nbformat": 4,
  "nbformat_minor": 0,
  "metadata": {
    "colab": {
      "name": "Bidirectional LSTM for Image Prediction",
      "version": "0.3.2",
      "provenance": []
    },
    "kernelspec": {
      "name": "python3",
      "display_name": "Python 3"
    }
  },
  "cells": [
    {
      "cell_type": "code",
      "metadata": {
        "id": "2dz537qNjMk2",
        "colab_type": "code",
        "colab": {}
      },
      "source": [
        ""
      ],
      "execution_count": 0,
      "outputs": []
    },
    {
      "cell_type": "markdown",
      "metadata": {
        "id": "w9ZQBWVhjQTN",
        "colab_type": "text"
      },
      "source": [
        "This code is done for my practice for the **Bidirectional Neural Network**. You are welcome to use this code and update it for your use where ever you want.\n",
        "\n",
        "The data was divided into train and test.\n",
        "\n",
        "The image was of the size 28*28.\n",
        "The image was normalized to have values between 0 and 1.\n",
        "\n",
        "The first Layer  i created was an input layer for the network expecting a 28*28 input size.\n",
        "\n",
        "All the following tasks wer performed on the original image and the rotated image, as originally their is no time in an image, but we will be taking the height and the width of the image as time.\n",
        "\n",
        "**Layers:**\n",
        "\n",
        "The first layer is the **Bidirectional LSTM layer** which has the hidden size of 100.\n",
        "The second layer is the **Dropout Layer** with a rate of 0.2\n",
        "The third layer is another **LSTM payer** with hidden size of 50\n",
        "The fourth layer is a **Dropout Layer** with rate of 0.2\n",
        "The fifth layer is a **Maxpooling Layer** which picks the maximum value out of the set of values\n",
        "\n",
        "The same thing is done for the rotated image and both of the outputs are combined to form one single input for the coming Dense layers.\n",
        "\n",
        "There are four **Dense Layers** of size **128, 64, 32, 16** with the 'relu' as the activation layer.\n",
        "The last layer is the **Dense Layer** with **10 outputs **each for one digit and the activation function is softmax as this is a multi-class problem.\n",
        "\n",
        "The **loss function** used for the model is sparse_crossentropy.\n",
        "\n",
        "The **optimizer** is adam.\n",
        "\n",
        "The **metric** used is accuracy\n",
        "\n",
        "We have taken a **batch size** of 32 and run it for 5 **epochs** with a **validation split** of 0.2\n",
        "\n",
        "We can play with all of the values to get a better result.\n",
        "\n",
        "I got an **accuracy** of 93% for the training set, 97% for the validation set and 97.85% fo the test set."
      ]
    },
    {
      "cell_type": "code",
      "metadata": {
        "id": "Nm4KjE24Wvwu",
        "colab_type": "code",
        "outputId": "f4e8649f-c52b-4d3f-811b-e8ca933ee0ae",
        "colab": {
          "base_uri": "https://localhost:8080/",
          "height": 34
        }
      },
      "source": [
        "#Importing required libraries\n",
        "\n",
        "from keras import Model\n",
        "from keras.layers import Bidirectional,LSTM,Concatenate,Input,Lambda,GlobalMaxPooling1D,Dense,Dropout\n",
        "import keras.backend as K\n",
        "import numpy as np\n",
        "import pandas as pd\n",
        "import matplotlib.pyplot as plt\n",
        "import keras\n",
        "import warnings\n",
        "warnings.filterwarnings(\"ignore\")\n"
      ],
      "execution_count": 0,
      "outputs": [
        {
          "output_type": "stream",
          "text": [
            "Using TensorFlow backend.\n"
          ],
          "name": "stderr"
        }
      ]
    },
    {
      "cell_type": "code",
      "metadata": {
        "id": "gwplzg0WXGXc",
        "colab_type": "code",
        "outputId": "9831d23d-95fb-4625-dbd7-6f6b36e14e7e",
        "colab": {
          "base_uri": "https://localhost:8080/",
          "height": 51
        }
      },
      "source": [
        "from keras.datasets import mnist\n",
        "(x_train, y_train), (x_test, y_test) = mnist.load_data()  # Loading the dataset from the package into train and test"
      ],
      "execution_count": 0,
      "outputs": [
        {
          "output_type": "stream",
          "text": [
            "Downloading data from https://s3.amazonaws.com/img-datasets/mnist.npz\n",
            "11493376/11490434 [==============================] - 0s 0us/step\n"
          ],
          "name": "stdout"
        }
      ]
    },
    {
      "cell_type": "code",
      "metadata": {
        "id": "7ilikWIFXpZX",
        "colab_type": "code",
        "outputId": "23e181aa-2768-433c-9637-5fb15a25dc5f",
        "colab": {
          "base_uri": "https://localhost:8080/",
          "height": 34
        }
      },
      "source": [
        "x_train.shape,y_train.shape,x_test.shape,y_test.shape"
      ],
      "execution_count": 0,
      "outputs": [
        {
          "output_type": "execute_result",
          "data": {
            "text/plain": [
              "((60000, 28, 28), (60000,), (10000, 28, 28), (10000,))"
            ]
          },
          "metadata": {
            "tags": []
          },
          "execution_count": 4
        }
      ]
    },
    {
      "cell_type": "code",
      "metadata": {
        "id": "9RigmBBIZ26G",
        "colab_type": "code",
        "colab": {}
      },
      "source": [
        "# Normalization \n",
        "\n",
        "x_train = x_train/255\n",
        "x_test  = x_test/255"
      ],
      "execution_count": 0,
      "outputs": []
    },
    {
      "cell_type": "code",
      "metadata": {
        "id": "jP3IXq2JuTSi",
        "colab_type": "code",
        "outputId": "2c93b5b9-293a-4703-ab30-75061789309f",
        "colab": {
          "base_uri": "https://localhost:8080/",
          "height": 286
        }
      },
      "source": [
        "#Sample image\n",
        "\n",
        "plt.imshow(x_train[2])"
      ],
      "execution_count": 0,
      "outputs": [
        {
          "output_type": "execute_result",
          "data": {
            "text/plain": [
              "<matplotlib.image.AxesImage at 0x7f6ca04e1908>"
            ]
          },
          "metadata": {
            "tags": []
          },
          "execution_count": 6
        },
        {
          "output_type": "display_data",
          "data": {
            "image/png": "[encoded data removed]",
            "text/plain": [
              "<Figure size 432x288 with 1 Axes>"
            ]
          },
          "metadata": {
            "tags": []
          }
        }
      ]
    },
    {
      "cell_type": "code",
      "metadata": {
        "id": "tMDwSazucFL9",
        "colab_type": "code",
        "outputId": "8414eeeb-d249-4151-fb30-5a2150fb8cc8",
        "colab": {
          "base_uri": "https://localhost:8080/",
          "height": 139
        }
      },
      "source": [
        "# Preparing the Input Layer for the Network\n",
        "\n",
        "input_ = Input(shape=(x_train.shape[1],x_train.shape[2]))\n",
        "print('Shape of the input: ',input_.shape)"
      ],
      "execution_count": 0,
      "outputs": [
        {
          "output_type": "stream",
          "text": [
            "WARNING: Logging before flag parsing goes to stderr.\n",
            "W0718 12:46:01.634191 140105491625856 deprecation_wrapper.py:119] From /usr/local/lib/python3.6/dist-packages/keras/backend/tensorflow_backend.py:74: The name tf.get_default_graph is deprecated. Please use tf.compat.v1.get_default_graph instead.\n",
            "\n",
            "W0718 12:46:01.670797 140105491625856 deprecation_wrapper.py:119] From /usr/local/lib/python3.6/dist-packages/keras/backend/tensorflow_backend.py:517: The name tf.placeholder is deprecated. Please use tf.compat.v1.placeholder instead.\n",
            "\n"
          ],
          "name": "stderr"
        },
        {
          "output_type": "stream",
          "text": [
            "Shape of the input:  (?, 28, 28)\n"
          ],
          "name": "stdout"
        }
      ]
    },
    {
      "cell_type": "code",
      "metadata": {
        "id": "lRxAaBFUcXyB",
        "colab_type": "code",
        "colab": {}
      },
      "source": [
        "#First Bidirectional Layer for a LSTM layer\n",
        "\n",
        "rnn1 = Bidirectional(LSTM(units=100,return_sequences = True))"
      ],
      "execution_count": 0,
      "outputs": []
    },
    {
      "cell_type": "code",
      "metadata": {
        "id": "e1g9001Kd3a-",
        "colab_type": "code",
        "outputId": "98cd823e-9ce1-42e4-95b2-6137bf5b52d8",
        "colab": {
          "base_uri": "https://localhost:8080/",
          "height": 88
        }
      },
      "source": [
        "# Executing Bidirectional and LSTM Layer\n",
        "\n",
        "x = rnn1(input_)\n",
        "print('Shape of the output from Birectional and LSTM Layer: ',x.shape)"
      ],
      "execution_count": 0,
      "outputs": [
        {
          "output_type": "stream",
          "text": [
            "W0718 12:46:02.330018 140105491625856 deprecation_wrapper.py:119] From /usr/local/lib/python3.6/dist-packages/keras/backend/tensorflow_backend.py:4138: The name tf.random_uniform is deprecated. Please use tf.random.uniform instead.\n",
            "\n"
          ],
          "name": "stderr"
        },
        {
          "output_type": "stream",
          "text": [
            "Shape of the output from Birectional and LSTM Layer:  (?, ?, 200)\n"
          ],
          "name": "stdout"
        }
      ]
    },
    {
      "cell_type": "code",
      "metadata": {
        "id": "ZucLukYULKdG",
        "colab_type": "code",
        "outputId": "c0da7dc1-9e1d-4c29-968a-75478d124544",
        "colab": {
          "base_uri": "https://localhost:8080/",
          "height": 139
        }
      },
      "source": [
        "# Dropout Layer for 1st LSTM\n",
        "\n",
        "x = Dropout(rate=0.2)(x)\n",
        "print('Shape of the output after Dropout: ',x.shape)"
      ],
      "execution_count": 0,
      "outputs": [
        {
          "output_type": "stream",
          "text": [
            "W0718 12:46:02.934491 140105491625856 deprecation_wrapper.py:119] From /usr/local/lib/python3.6/dist-packages/keras/backend/tensorflow_backend.py:133: The name tf.placeholder_with_default is deprecated. Please use tf.compat.v1.placeholder_with_default instead.\n",
            "\n",
            "W0718 12:46:02.947071 140105491625856 deprecation.py:506] From /usr/local/lib/python3.6/dist-packages/keras/backend/tensorflow_backend.py:3445: calling dropout (from tensorflow.python.ops.nn_ops) with keep_prob is deprecated and will be removed in a future version.\n",
            "Instructions for updating:\n",
            "Please use `rate` instead of `keep_prob`. Rate should be set to `rate = 1 - keep_prob`.\n"
          ],
          "name": "stderr"
        },
        {
          "output_type": "stream",
          "text": [
            "Shape of the output after Dropout:  (?, ?, 200)\n"
          ],
          "name": "stdout"
        }
      ]
    },
    {
      "cell_type": "code",
      "metadata": {
        "id": "oAmaikynoHdy",
        "colab_type": "code",
        "outputId": "81763600-a025-45f3-c111-b136225fc8be",
        "colab": {
          "base_uri": "https://localhost:8080/",
          "height": 34
        }
      },
      "source": [
        "#2nd Layer of LSTM and Dropout\n",
        "\n",
        "rnn12 = LSTM(units = 100,return_sequences = True)\n",
        "x = rnn12(x)\n",
        "x = Dropout(rate=0.2)(x)\n",
        "print('Shape of the output after second Birectional,LSTM Layer and Dropout: ',x.shape)"
      ],
      "execution_count": 0,
      "outputs": [
        {
          "output_type": "stream",
          "text": [
            "Shape of the output after second Birectional,LSTM Layer and Dropout:  (?, ?, 100)\n"
          ],
          "name": "stdout"
        }
      ]
    },
    {
      "cell_type": "code",
      "metadata": {
        "id": "vG8ufEJDeK1u",
        "colab_type": "code",
        "outputId": "69480827-8285-4bff-a1ac-c8f686437bf3",
        "colab": {
          "base_uri": "https://localhost:8080/",
          "height": 34
        }
      },
      "source": [
        "#MaxPooling Layer\n",
        "\n",
        "x = GlobalMaxPooling1D()(x)\n",
        "print('Shape of the output after MaxPooling: ',x.shape)"
      ],
      "execution_count": 0,
      "outputs": [
        {
          "output_type": "stream",
          "text": [
            "Shape of the output after MaxPooling:  (?, 100)\n"
          ],
          "name": "stdout"
        }
      ]
    },
    {
      "cell_type": "code",
      "metadata": {
        "id": "M4TcOC8gegM8",
        "colab_type": "code",
        "colab": {}
      },
      "source": [
        "# Executing Bidirectional and LSTM Layer\n",
        "rnn2 = Bidirectional(LSTM(units = 100,return_sequences = True))\n",
        "\n",
        "#Rotating the image\n",
        "permutor = Lambda(lambda t: K.permute_dimensions(t,pattern=(0,2,1)))"
      ],
      "execution_count": 0,
      "outputs": []
    },
    {
      "cell_type": "code",
      "metadata": {
        "id": "Nu4GH1hme9wG",
        "colab_type": "code",
        "outputId": "1c00ea08-0d70-42f0-9f2e-e06a0697c77c",
        "colab": {
          "base_uri": "https://localhost:8080/",
          "height": 34
        }
      },
      "source": [
        "x2 = permutor(input_)\n",
        "print('Shape of the output after Rotating: ',x2.shape)"
      ],
      "execution_count": 0,
      "outputs": [
        {
          "output_type": "stream",
          "text": [
            "Shape of the output after Rotating:  (?, 28, 28)\n"
          ],
          "name": "stdout"
        }
      ]
    },
    {
      "cell_type": "code",
      "metadata": {
        "id": "86P1O_fDfEG-",
        "colab_type": "code",
        "outputId": "9759e289-86fe-4672-c093-28d2dea9e576",
        "colab": {
          "base_uri": "https://localhost:8080/",
          "height": 34
        }
      },
      "source": [
        "x2 = rnn1(x2)\n",
        "print('Shape of the output from Birectional and LSTM Layer: ',x2.shape)"
      ],
      "execution_count": 0,
      "outputs": [
        {
          "output_type": "stream",
          "text": [
            "Shape of the output from Birectional and LSTM Layer:  (?, ?, 200)\n"
          ],
          "name": "stdout"
        }
      ]
    },
    {
      "cell_type": "code",
      "metadata": {
        "id": "ILYORsJfMFDi",
        "colab_type": "code",
        "outputId": "0ec80e6f-1c04-4ac9-a87a-37a12d476136",
        "colab": {
          "base_uri": "https://localhost:8080/",
          "height": 34
        }
      },
      "source": [
        "#Dropout Layer\n",
        "\n",
        "x2 = Dropout(rate=0.2)(x2)\n",
        "print('Shape of the output after Dropout: ',x2.shape)"
      ],
      "execution_count": 0,
      "outputs": [
        {
          "output_type": "stream",
          "text": [
            "Shape of the output after Dropout:  (?, ?, 200)\n"
          ],
          "name": "stdout"
        }
      ]
    },
    {
      "cell_type": "code",
      "metadata": {
        "id": "t6pYLv-5obWY",
        "colab_type": "code",
        "outputId": "b9d1d7d4-46eb-4dd9-e620-3d26eeff91f6",
        "colab": {
          "base_uri": "https://localhost:8080/",
          "height": 34
        }
      },
      "source": [
        "#Second Layer of Bidirectional and LSTM\n",
        "\n",
        "rnn22 = LSTM(units = 100,return_sequences = True)\n",
        "x2 = rnn22(x2)\n",
        "x2 = Dropout(rate=0.2)(x2)\n",
        "print('Shape of the output after second Birectional,LSTM Layer and Dropout: ',x2.shape)"
      ],
      "execution_count": 0,
      "outputs": [
        {
          "output_type": "stream",
          "text": [
            "Shape of the output after second Birectional,LSTM Layer and Dropout:  (?, ?, 100)\n"
          ],
          "name": "stdout"
        }
      ]
    },
    {
      "cell_type": "code",
      "metadata": {
        "id": "FVqh-D0cfP3G",
        "colab_type": "code",
        "outputId": "50d65a65-e464-4cca-a7e7-cde4d32c28bf",
        "colab": {
          "base_uri": "https://localhost:8080/",
          "height": 34
        }
      },
      "source": [
        "#MaxPooling Layer\n",
        "\n",
        "x2 = GlobalMaxPooling1D()(x2)\n",
        "print('Shape of the output after MaxPooling: ',x2.shape)"
      ],
      "execution_count": 0,
      "outputs": [
        {
          "output_type": "stream",
          "text": [
            "Shape of the output after MaxPooling:  (?, 100)\n"
          ],
          "name": "stdout"
        }
      ]
    },
    {
      "cell_type": "code",
      "metadata": {
        "id": "36JNXxk7fSo_",
        "colab_type": "code",
        "outputId": "fc5b830f-cd4e-4c3d-805c-c8cc23a81a16",
        "colab": {
          "base_uri": "https://localhost:8080/",
          "height": 34
        }
      },
      "source": [
        "concat = Concatenate(axis = 1)\n",
        "x = concat([x,x2])\n",
        "print('Shape of the output after Concatenating original and rotated image: ',x.shape)"
      ],
      "execution_count": 0,
      "outputs": [
        {
          "output_type": "stream",
          "text": [
            "Shape of the output after Concatenating original and rotated image:  (?, 200)\n"
          ],
          "name": "stdout"
        }
      ]
    },
    {
      "cell_type": "code",
      "metadata": {
        "id": "jHyh2Xanfbo-",
        "colab_type": "code",
        "outputId": "510e2f19-2ceb-4c0a-f68b-f5785331a6a5",
        "colab": {
          "base_uri": "https://localhost:8080/",
          "height": 119
        }
      },
      "source": [
        "# Adding Dense Layer\n",
        "\n",
        "x = Dense(activation = 'relu',units = 256)(x)\n",
        "x = Dropout(rate=0.2)(x)\n",
        "print('Shape of the output after first Dense Layer: ',x.shape)\n",
        "x = Dense(activation = 'relu',units = 128)(x)\n",
        "x = Dropout(rate=0.2)(x)\n",
        "print('Shape of the output after second Dense Layer: ',x.shape)\n",
        "x = Dense(activation = 'relu',units = 64)(x)\n",
        "x = Dropout(rate=0.2)(x)\n",
        "print('Shape of the output after third Dense Layer: ',x.shape)\n",
        "x = Dense(activation = 'relu',units = 32)(x)\n",
        "x = Dropout(rate=0.2)(x)\n",
        "print('Shape of the output after fourth Dense Layer: ',x.shape)\n",
        "x = Dense(activation = 'relu',units = 16)(x)\n",
        "x = Dropout(rate=0.2)(x)\n",
        "print('Shape of the output after fifth Dense Layer: ',x.shape)\n",
        "x = Dropout(rate=0.2)(x)\n",
        "output = Dense(activation='softmax',units=10)(x)\n",
        "print('Shape of the output after last Dense Layer: ',output.shape)"
      ],
      "execution_count": 0,
      "outputs": [
        {
          "output_type": "stream",
          "text": [
            "Shape of the output after first Dense Layer:  (?, 256)\n",
            "Shape of the output after second Dense Layer:  (?, 128)\n",
            "Shape of the output after third Dense Layer:  (?, 64)\n",
            "Shape of the output after fourth Dense Layer:  (?, 32)\n",
            "Shape of the output after fifth Dense Layer:  (?, 16)\n",
            "Shape of the output after last Dense Layer:  (?, 10)\n"
          ],
          "name": "stdout"
        }
      ]
    },
    {
      "cell_type": "code",
      "metadata": {
        "id": "-tYcXx-yf-MH",
        "colab_type": "code",
        "colab": {}
      },
      "source": [
        "#Training the model\n",
        "\n",
        "model = Model(inputs = input_,outputs = output)"
      ],
      "execution_count": 0,
      "outputs": []
    },
    {
      "cell_type": "code",
      "metadata": {
        "id": "3Btfx7VPgLcG",
        "colab_type": "code",
        "outputId": "60128aaa-ea32-47f7-e269-78d37efb1be0",
        "colab": {
          "base_uri": "https://localhost:8080/",
          "height": 85
        }
      },
      "source": [
        "# Adding loss and optimizer for the model\n",
        "\n",
        "model.compile(loss='sparse_categorical_crossentropy',optimizer='adam',metrics=['accuracy'])"
      ],
      "execution_count": 0,
      "outputs": [
        {
          "output_type": "stream",
          "text": [
            "W0718 12:46:08.403540 140105491625856 deprecation_wrapper.py:119] From /usr/local/lib/python3.6/dist-packages/keras/optimizers.py:790: The name tf.train.Optimizer is deprecated. Please use tf.compat.v1.train.Optimizer instead.\n",
            "\n",
            "W0718 12:46:08.430813 140105491625856 deprecation_wrapper.py:119] From /usr/local/lib/python3.6/dist-packages/keras/backend/tensorflow_backend.py:3341: The name tf.log is deprecated. Please use tf.math.log instead.\n",
            "\n"
          ],
          "name": "stderr"
        }
      ]
    },
    {
      "cell_type": "code",
      "metadata": {
        "id": "BS5h1616gY32",
        "colab_type": "code",
        "outputId": "9bba0a10-8c3c-422a-ef3d-d05300200a57",
        "colab": {
          "base_uri": "https://localhost:8080/",
          "height": 275
        }
      },
      "source": [
        "#Fitting the model\n",
        "\n",
        "history = model.fit(x_train,y_train,batch_size=32,epochs=5,validation_split=0.2)"
      ],
      "execution_count": 0,
      "outputs": [
        {
          "output_type": "stream",
          "text": [
            "W0718 12:46:09.279563 140105491625856 deprecation.py:323] From /usr/local/lib/python3.6/dist-packages/tensorflow/python/ops/math_grad.py:1250: add_dispatch_support.<locals>.wrapper (from tensorflow.python.ops.array_ops) is deprecated and will be removed in a future version.\n",
            "Instructions for updating:\n",
            "Use tf.where in 2.0, which has the same broadcast rule as np.where\n"
          ],
          "name": "stderr"
        },
        {
          "output_type": "stream",
          "text": [
            "Train on 48000 samples, validate on 12000 samples\n",
            "Epoch 1/5\n",
            "48000/48000 [==============================] - 305s 6ms/step - loss: 0.9553 - acc: 0.6831 - val_loss: 0.2856 - val_acc: 0.9292\n",
            "Epoch 2/5\n",
            "48000/48000 [==============================] - 300s 6ms/step - loss: 0.4291 - acc: 0.8860 - val_loss: 0.2051 - val_acc: 0.9535\n",
            "Epoch 3/5\n",
            "48000/48000 [==============================] - 299s 6ms/step - loss: 0.3214 - acc: 0.9129 - val_loss: 0.1827 - val_acc: 0.9618\n",
            "Epoch 4/5\n",
            "48000/48000 [==============================] - 300s 6ms/step - loss: 0.2767 - acc: 0.9278 - val_loss: 0.1389 - val_acc: 0.9749\n",
            "Epoch 5/5\n",
            "48000/48000 [==============================] - 300s 6ms/step - loss: 0.2542 - acc: 0.9331 - val_loss: 0.1139 - val_acc: 0.9753\n"
          ],
          "name": "stdout"
        }
      ]
    },
    {
      "cell_type": "code",
      "metadata": {
        "id": "0G58HfQrgnaP",
        "colab_type": "code",
        "outputId": "bbbf545d-4c7f-4822-bd16-8a1d74e3cecd",
        "colab": {
          "base_uri": "https://localhost:8080/",
          "height": 269
        }
      },
      "source": [
        "plt.plot(history.history['loss'],label = 'loss')\n",
        "plt.plot(history.history['val_loss'],label = 'val_loss')\n",
        "plt.legend()\n",
        "plt.show()"
      ],
      "execution_count": 0,
      "outputs": [
        {
          "output_type": "display_data",
          "data": {
            "image/png": "[encoded data removed]",
            "text/plain": [
              "<Figure size 432x288 with 1 Axes>"
            ]
          },
          "metadata": {
            "tags": []
          }
        }
      ]
    },
    {
      "cell_type": "code",
      "metadata": {
        "id": "pPtLqBp5g69A",
        "colab_type": "code",
        "outputId": "c161aefe-6e6b-4e9a-eb52-fc697d721c06",
        "colab": {
          "base_uri": "https://localhost:8080/",
          "height": 269
        }
      },
      "source": [
        "plt.plot(history.history['acc'],label = 'acc')\n",
        "plt.plot(history.history['val_acc'],label = 'val_acc')\n",
        "plt.legend()\n",
        "plt.show()"
      ],
      "execution_count": 0,
      "outputs": [
        {
          "output_type": "display_data",
          "data": {
            "image/png": "[encoded data removed]",
            "text/plain": [
              "<Figure size 432x288 with 1 Axes>"
            ]
          },
          "metadata": {
            "tags": []
          }
        }
      ]
    },
    {
      "cell_type": "code",
      "metadata": {
        "id": "vDrhtP3ThAev",
        "colab_type": "code",
        "outputId": "91e99fa3-6a49-4c9a-e6c5-3330bab8105f",
        "colab": {
          "base_uri": "https://localhost:8080/",
          "height": 68
        }
      },
      "source": [
        "pred = model.evaluate(x = x_test,y = y_test)\n",
        "print('Loss: ' + str(pred[0]))\n",
        "print('Accuracy: ' + str(pred[1]))"
      ],
      "execution_count": 0,
      "outputs": [
        {
          "output_type": "stream",
          "text": [
            "10000/10000 [==============================] - 13s 1ms/step\n",
            "Loss: 0.10766158287620638\n",
            "Accuracy: 0.9765\n"
          ],
          "name": "stdout"
        }
      ]
    },
    {
      "cell_type": "code",
      "metadata": {
        "id": "YthBm-Fukrmv",
        "colab_type": "code",
        "colab": {}
      },
      "source": [
        "predicted_values = model.predict(x_test)"
      ],
      "execution_count": 0,
      "outputs": []
    },
    {
      "cell_type": "code",
      "metadata": {
        "id": "PEcAaY0tk0Xu",
        "colab_type": "code",
        "outputId": "370ec728-7eda-47a3-8b39-c833eb718c9b",
        "colab": {
          "base_uri": "https://localhost:8080/",
          "height": 34
        }
      },
      "source": [
        "print(predicted_values.shape)\n"
      ],
      "execution_count": 0,
      "outputs": [
        {
          "output_type": "stream",
          "text": [
            "(10000, 10)\n"
          ],
          "name": "stdout"
        }
      ]
    },
    {
      "cell_type": "code",
      "metadata": {
        "id": "q4pusupul13P",
        "colab_type": "code",
        "outputId": "f19f802d-2d0f-436f-eb6a-dbfd5715500a",
        "colab": {
          "base_uri": "https://localhost:8080/",
          "height": 34
        }
      },
      "source": [
        "sum = 0\n",
        "for i in range(0,10000):\n",
        "  if(predicted_values[i].argmax() == y_test[i]):\n",
        "    sum = sum + 1\n",
        "    \n",
        "print(sum/10000)"
      ],
      "execution_count": 0,
      "outputs": [
        {
          "output_type": "stream",
          "text": [
            "0.9765\n"
          ],
          "name": "stdout"
        }
      ]
    },
    {
      "cell_type": "code",
      "metadata": {
        "id": "7DYF5SuNnTev",
        "colab_type": "code",
        "outputId": "cbb20f8f-6cb2-4f24-c503-62a5d8034827",
        "colab": {
          "base_uri": "https://localhost:8080/",
          "height": 320
        }
      },
      "source": [
        "print('Predicted: ',predicted_values[12].argmax())\n",
        "print('Original: ',y_test[12])\n",
        "plt.imshow(x_test[12])"
      ],
      "execution_count": 0,
      "outputs": [
        {
          "output_type": "stream",
          "text": [
            "Predicted:  9\n",
            "Original:  9\n"
          ],
          "name": "stdout"
        },
        {
          "output_type": "execute_result",
          "data": {
            "text/plain": [
              "<matplotlib.image.AxesImage at 0x7f6c947ee940>"
            ]
          },
          "metadata": {
            "tags": []
          },
          "execution_count": 30
        },
        {
          "output_type": "display_data",
          "data": {
            "image/png": "[encoded data removed]",
            "text/plain": [
              "<Figure size 432x288 with 1 Axes>"
            ]
          },
          "metadata": {
            "tags": []
          }
        }
      ]
    },
    {
      "cell_type": "code",
      "metadata": {
        "id": "Qi7irhT7vF1-",
        "colab_type": "code",
        "colab": {}
      },
      "source": [
        ""
      ],
      "execution_count": 0,
      "outputs": []
    },
    {
      "cell_type": "code",
      "metadata": {
        "id": "I3mjEq3W0J5u",
        "colab_type": "code",
        "colab": {}
      },
      "source": [
        ""
      ],
      "execution_count": 0,
      "outputs": []
    }
  ]
}